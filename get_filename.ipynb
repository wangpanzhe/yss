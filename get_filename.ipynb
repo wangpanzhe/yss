{
 "cells": [
  {
   "cell_type": "code",
   "execution_count": 1,
   "metadata": {},
   "outputs": [
    {
     "ename": "FileNotFoundError",
     "evalue": "[Errno 2] No such file or directory: ''",
     "output_type": "error",
     "traceback": [
      "\u001b[0;31m---------------------------------------------------------------------------\u001b[0m",
      "\u001b[0;31mFileNotFoundError\u001b[0m                         Traceback (most recent call last)",
      "\u001b[1;32m/Users/yangshuang/Desktop/ys.code/get_filename.ipynb Cell 1'\u001b[0m in \u001b[0;36m<module>\u001b[0;34m\u001b[0m\n\u001b[1;32m      <a href='vscode-notebook-cell:/Users/yangshuang/Desktop/ys.code/get_filename.ipynb#ch0000000?line=0'>1</a>\u001b[0m \u001b[39mimport\u001b[39;00m \u001b[39mos\u001b[39;00m\u001b[39m,\u001b[39m\u001b[39msys\u001b[39;00m\n\u001b[1;32m      <a href='vscode-notebook-cell:/Users/yangshuang/Desktop/ys.code/get_filename.ipynb#ch0000000?line=1'>2</a>\u001b[0m path\u001b[39m=\u001b[39m\u001b[39m'\u001b[39m\u001b[39m'\u001b[39m\n\u001b[0;32m----> <a href='vscode-notebook-cell:/Users/yangshuang/Desktop/ys.code/get_filename.ipynb#ch0000000?line=2'>3</a>\u001b[0m filelist\u001b[39m=\u001b[39mos\u001b[39m.\u001b[39;49mlistdir(path)\n\u001b[1;32m      <a href='vscode-notebook-cell:/Users/yangshuang/Desktop/ys.code/get_filename.ipynb#ch0000000?line=3'>4</a>\u001b[0m count\u001b[39m=\u001b[39m\u001b[39mlen\u001b[39m(filelist)\n\u001b[1;32m      <a href='vscode-notebook-cell:/Users/yangshuang/Desktop/ys.code/get_filename.ipynb#ch0000000?line=4'>5</a>\u001b[0m \u001b[39m# train_list=filelist[:int(count*0.9)]\u001b[39;00m\n\u001b[1;32m      <a href='vscode-notebook-cell:/Users/yangshuang/Desktop/ys.code/get_filename.ipynb#ch0000000?line=5'>6</a>\u001b[0m \u001b[39m# val_list=filelist[int(count*0.9):]\u001b[39;00m\n",
      "\u001b[0;31mFileNotFoundError\u001b[0m: [Errno 2] No such file or directory: ''"
     ]
    }
   ],
   "source": [
    "import os,sys\n",
    "path=''\n",
    "filelist=os.listdir(path)\n",
    "count=len(filelist)\n",
    "# train_list=filelist[:int(count*0.9)]\n",
    "# val_list=filelist[int(count*0.9):]\n",
    "train_list=filelist[:3000]\n",
    "val_list=filelist[3001:]\n",
    "\n",
    "with open(\"train.txt\",\"w\") as f:\n",
    "    for i in range(len(train_list)):\n",
    "        filename=train_list[i].split('.')[0]#0代表取.前面的部分\n",
    "        f.write(filename+'\\n')\n",
    "with open('val.txt','w') as f:\n",
    "    for i in range(len(val_list)):\n",
    "        filename=val_list[i].split('.')[0]\n",
    "        f.write(filename+'\\n')\n",
    "\n",
    "print(train_list)\n",
    "print(val_list)\n",
    "\n",
    "\n"
   ]
  },
  {
   "cell_type": "code",
   "execution_count": 1,
   "metadata": {},
   "outputs": [
    {
     "data": {
      "text/plain": [
       "array([0, 1], dtype=uint8)"
      ]
     },
     "execution_count": 1,
     "metadata": {},
     "output_type": "execute_result"
    }
   ],
   "source": [
    "\n",
    "import numpy as np\n",
    "from PIL import Image\n",
    " \n",
    "img = Image.open('/Users/yangshuang/Desktop/dataset1/mask/01.png')\n",
    "img = np.array(img)\n",
    "np.unique(img)"
   ]
  }
 ],
 "metadata": {
  "interpreter": {
   "hash": "aee8b7b246df8f9039afb4144a1f6fd8d2ca17a180786b69acc140d282b71a49"
  },
  "kernelspec": {
   "display_name": "Python 3.9.8 64-bit",
   "language": "python",
   "name": "python3"
  },
  "language_info": {
   "codemirror_mode": {
    "name": "ipython",
    "version": 3
   },
   "file_extension": ".py",
   "mimetype": "text/x-python",
   "name": "python",
   "nbconvert_exporter": "python",
   "pygments_lexer": "ipython3",
   "version": "3.9.8"
  },
  "orig_nbformat": 4
 },
 "nbformat": 4,
 "nbformat_minor": 2
}
