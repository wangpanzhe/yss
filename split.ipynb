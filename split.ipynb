{
 "cells": [
  {
   "cell_type": "code",
   "execution_count": 7,
   "metadata": {},
   "outputs": [],
   "source": [
    "import os\n",
    "filelist=os.listdir(\"/Users/yangshuang/Desktop/dataset/JPEGImages\")\n",
    "count=len(filelist)\n",
    "trainval_list=filelist[:int(count*0.9)]\n",
    "count1=len(trainval_list)\n",
    "test_list=filelist[int(count*0.9):]\n",
    "train_list=trainval_list[:int(count1*0.9)]\n",
    "val_list=trainval_list[int(count1*0.9):]\n",
    "\n",
    "with open(\"train.txt\",\"w\") as f:\n",
    "    for i in range(len(train_list)):\n",
    "        filename=train_list[i].split('.')[0]#0代表取.前面的部分\n",
    "        f.write(filename+'\\n')\n",
    "with open('val.txt','w') as f:\n",
    "    for i in range(len(val_list)):\n",
    "        filename=val_list[i].split('.')[0]\n",
    "        f.write(filename+'\\n')\n",
    "with open('test.txt','w') as f:\n",
    "    for i in range(len(test_list)):\n",
    "        filename=test_list[i].split('.')[0]\n",
    "        f.write(filename+'\\n')\n",
    "\n"
   ]
  }
 ],
 "metadata": {
  "interpreter": {
   "hash": "aee8b7b246df8f9039afb4144a1f6fd8d2ca17a180786b69acc140d282b71a49"
  },
  "kernelspec": {
   "display_name": "Python 3.9.8 64-bit",
   "language": "python",
   "name": "python3"
  },
  "language_info": {
   "codemirror_mode": {
    "name": "ipython",
    "version": 3
   },
   "file_extension": ".py",
   "mimetype": "text/x-python",
   "name": "python",
   "nbconvert_exporter": "python",
   "pygments_lexer": "ipython3",
   "version": "3.9.8"
  },
  "orig_nbformat": 4
 },
 "nbformat": 4,
 "nbformat_minor": 2
}
