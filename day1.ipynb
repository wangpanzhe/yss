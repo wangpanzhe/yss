{
 "cells": [
  {
   "cell_type": "markdown",
   "metadata": {},
   "source": [
    "# 1、日期相减"
   ]
  },
  {
   "cell_type": "code",
   "execution_count": null,
   "metadata": {},
   "outputs": [],
   "source": [
    "\n",
    "import datetime\n",
    "import time \n",
    "st = '17:47:55'\n",
    "st = datetime.datetime.strptime(st, \"%H:%M:%S\")\n",
    "et=\"23:06:23\"\n",
    "et = datetime.datetime.strptime(et, \"%H:%M:%S\")\n",
    "\n",
    "# 相减得到秒数\n",
    "seconds = (et- st).seconds\n",
    "\n",
    "print(seconds/60/60)\n",
    "hours=(et- st)\n",
    "print(hours)\n",
    "# day=(et- st).min"
   ]
  },
  {
   "cell_type": "markdown",
   "metadata": {},
   "source": [
    "# 2、JSON文件读取\n",
    "JSON的格式化输出,要求：\n",
    "> 执行命令为 `python .py .JSON`"
   ]
  },
  {
   "cell_type": "code",
   "execution_count": null,
   "metadata": {},
   "outputs": [],
   "source": []
  }
 ],
 "metadata": {
  "interpreter": {
   "hash": "aee8b7b246df8f9039afb4144a1f6fd8d2ca17a180786b69acc140d282b71a49"
  },
  "kernelspec": {
   "display_name": "Python 3.9.8 64-bit",
   "language": "python",
   "name": "python3"
  },
  "language_info": {
   "codemirror_mode": {
    "name": "ipython",
    "version": 3
   },
   "file_extension": ".py",
   "mimetype": "text/x-python",
   "name": "python",
   "nbconvert_exporter": "python",
   "pygments_lexer": "ipython3",
   "version": "3.9.8"
  },
  "orig_nbformat": 4
 },
 "nbformat": 4,
 "nbformat_minor": 2
}
